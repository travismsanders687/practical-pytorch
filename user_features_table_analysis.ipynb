{
  "nbformat": 4,
  "nbformat_minor": 0,
  "metadata": {
    "colab": {
      "name": "user_features_table_analysis.ipynb",
      "provenance": [],
      "collapsed_sections": [
        "JmNvXDhm6sgi"
      ],
      "include_colab_link": true
    },
    "kernelspec": {
      "name": "python3",
      "display_name": "Python 3"
    }
  },
  "cells": [
    {
      "cell_type": "markdown",
      "metadata": {
        "id": "view-in-github",
        "colab_type": "text"
      },
      "source": [
        "<a href=\"https://colab.research.google.com/github/travismsanders687/practical-pytorch/blob/master/user_features_table_analysis.ipynb\" target=\"_parent\"><img src=\"https://colab.research.google.com/assets/colab-badge.svg\" alt=\"Open In Colab\"/></a>"
      ]
    },
    {
      "cell_type": "code",
      "metadata": {
        "id": "USQOsMCiDfwI"
      },
      "source": [
        "pip install https://github.com/pandas-profiling/pandas-profiling/archive/master.zip"
      ],
      "execution_count": null,
      "outputs": []
    },
    {
      "cell_type": "markdown",
      "metadata": {
        "id": "qgi8Yb_ZiFmh"
      },
      "source": [
        "#Hello"
      ]
    },
    {
      "cell_type": "code",
      "metadata": {
        "id": "OZVkiJO_rRAj",
        "colab": {
          "base_uri": "https://localhost:8080/",
          "height": 443
        },
        "outputId": "07d7c7ca-b592-4319-92ea-07ee5898d3f3"
      },
      "source": [
        "# Commonly used modules\n",
        "import numpy as np\n",
        "import datetime\n",
        "import os\n",
        "import sys\n",
        "\n",
        "# Images, plots, display, and visualization\n",
        "import matplotlib.pyplot as plt\n",
        "import pandas as pd\n",
        "\n",
        "import seaborn as sns\n",
        "import cv2\n",
        "import IPython\n",
        "from pandas_profiling import ProfileReport\n",
        "from six.moves import urllib\n",
        "\n",
        "# GCP\n",
        "from google.colab import auth\n",
        "from google.cloud import bigquery\n",
        "\n",
        "auth.authenticate_user()\n",
        "project_id = \"nomad-prod-193619\"\n",
        "%load_ext google.colab.data_table\n",
        "\n",
        "client = bigquery.Client(project=project_id)\n",
        "\n",
        "dataset = client.query('''\n",
        "  WITH\n",
        "  submission_date AS (\n",
        "  SELECT\n",
        "    MIN(ps.timestamp) AS first_submission_timestamp,\n",
        "    p._id,\n",
        "    ps.status,\n",
        "    p.physician,\n",
        "    p.jobpost\n",
        "  FROM\n",
        "    `nomad-prod-193619.ml_team.placement_unique_view` p\n",
        "  LEFT JOIN\n",
        "    UNNEST(p.placement_status_history) ps\n",
        "  WHERE\n",
        "    status IN (\"submitted_to_vms\",\n",
        "      \"packet_submitted\",\n",
        "      \"submitted_packet\")\n",
        "  GROUP BY\n",
        "    2,\n",
        "    3,\n",
        "    4,\n",
        "    5 )\n",
        "SELECT\n",
        "  job_post.source AS VMS,\n",
        "  placement.application.has_curriculum_vitae,\n",
        "  placement.application.years_of_nursing_experience,\n",
        "  placement.application.years_of_travel_experience,\n",
        "  user.age_group,\n",
        "  user.num_qualified_references,\n",
        "  user._id as user_id,\n",
        "  placement.application_submission_date as application_submission_date,\n",
        "  ARRAY_LENGTH(placement.application.work_history) AS work_history_entries,\n",
        "  ARRAY_LENGTH(placement.application.generic_certifications) AS generic_certifications,\n",
        "  DATETIME_DIFF(DATETIME(placement.application_submission_date),\n",
        "    DATETIME(job_post.date_first_published),\n",
        "    DAY) AS publish_to_submission_diff,\n",
        "  DATETIME_DIFF( DATETIME(placement.application_submission_date),\n",
        "    DATETIME(job_post.start_date),\n",
        "    DAY) AS start_date_diff,\n",
        "  submission_date.first_submission_timestamp AS first_submission_timestamp,\n",
        "  COUNT(DISTINCT prophecy._id) AS count_completed_assessments,\n",
        "    --placement rollup fields\n",
        "  num_previous_applications,\n",
        "  has_previous_packet_created,\n",
        "  has_previous_submission,\n",
        "  has_previous_offer,\n",
        "  has_previous_hire,\n",
        "  days_since_last_packet_created,\n",
        "  days_since_last_packet_submission,\n",
        "  days_since_last_offer,\n",
        "  days_since_last_hire,\n",
        "  case when days_since_last_packet_created < 30 then 1 else 0 end as has_packet_created_30_days,\n",
        "  case when days_since_last_packet_submission < 30 then 1 else 0 end as has_submission_30_days\n",
        "FROM\n",
        "  `nomad-prod-193619.ml_team.placement_unique_view` placement\n",
        "INNER JOIN\n",
        "  `nomad-prod-193619.ml_team.user_unique_view` user\n",
        "ON\n",
        "  placement.physician = user._id\n",
        "INNER JOIN\n",
        "  `nomad-prod-193619.ml_team.job_post_unique_view` job_post\n",
        "ON\n",
        "  placement.jobpost = job_post._id\n",
        "INNER JOIN\n",
        "  `nomad-prod-193619.ml_team.placement_rollup_temporal` placement_rollup\n",
        "ON\n",
        "  placement_rollup._id = placement._id\n",
        "LEFT JOIN\n",
        "  submission_date\n",
        "ON\n",
        "  placement._id = submission_date._id\n",
        "LEFT JOIN `nomad-prod-193619.ml_team.prophecy_assessment_unique_view` prophecy\n",
        "ON\n",
        "  prophecy.provider = user._id \n",
        "AND prophecy.date_completed <= placement.application_submission_date\n",
        "WHERE\n",
        "  placement.application_submission_date IS NOT NULL\n",
        "  AND job_post.job_type = \"travel\"\n",
        "GROUP BY 1,2,3,4,5,6,7,8,9,10,11,12,13,15,16,17,18,19,20,21,22,23\n",
        "ORDER BY\n",
        "  submission_date.first_submission_timestamp ASC\n",
        "''').to_dataframe()\n",
        "\n",
        "\n"
      ],
      "execution_count": null,
      "outputs": [
        {
          "output_type": "stream",
          "text": [
            "ERROR:root:An unexpected error occurred while tokenizing input\n",
            "The following traceback may be corrupted or invalid\n",
            "The error message is: ('EOF in multi-line string', (1, 0))\n",
            "\n"
          ],
          "name": "stderr"
        },
        {
          "output_type": "error",
          "ename": "KeyboardInterrupt",
          "evalue": "ignored",
          "traceback": [
            "\u001b[0;31m---------------------------------------------------------------------------\u001b[0m",
            "\u001b[0;31mKeyboardInterrupt\u001b[0m                         Traceback (most recent call last)",
            "\u001b[0;32m<ipython-input-2-60e2388d62a4>\u001b[0m in \u001b[0;36m<module>\u001b[0;34m()\u001b[0m\n\u001b[1;32m    106\u001b[0m \u001b[0mORDER\u001b[0m \u001b[0mBY\u001b[0m\u001b[0;34m\u001b[0m\u001b[0;34m\u001b[0m\u001b[0m\n\u001b[1;32m    107\u001b[0m   \u001b[0msubmission_date\u001b[0m\u001b[0;34m.\u001b[0m\u001b[0mfirst_submission_timestamp\u001b[0m \u001b[0mASC\u001b[0m\u001b[0;34m\u001b[0m\u001b[0;34m\u001b[0m\u001b[0m\n\u001b[0;32m--> 108\u001b[0;31m ''').to_dataframe()\n\u001b[0m\u001b[1;32m    109\u001b[0m \u001b[0;34m\u001b[0m\u001b[0m\n\u001b[1;32m    110\u001b[0m \u001b[0;34m\u001b[0m\u001b[0m\n",
            "\u001b[0;32m/usr/local/lib/python3.7/dist-packages/google/cloud/bigquery/job.py\u001b[0m in \u001b[0;36mto_dataframe\u001b[0;34m(self, bqstorage_client, dtypes, progress_bar_type)\u001b[0m\n\u001b[1;32m   3103\u001b[0m             \u001b[0mValueError\u001b[0m\u001b[0;34m:\u001b[0m \u001b[0mIf\u001b[0m \u001b[0mthe\u001b[0m\u001b[0;31m \u001b[0m\u001b[0;31m`\u001b[0m\u001b[0mpandas\u001b[0m\u001b[0;31m`\u001b[0m \u001b[0mlibrary\u001b[0m \u001b[0mcannot\u001b[0m \u001b[0mbe\u001b[0m \u001b[0mimported\u001b[0m\u001b[0;34m.\u001b[0m\u001b[0;34m\u001b[0m\u001b[0;34m\u001b[0m\u001b[0m\n\u001b[1;32m   3104\u001b[0m         \"\"\"\n\u001b[0;32m-> 3105\u001b[0;31m         return self.result().to_dataframe(\n\u001b[0m\u001b[1;32m   3106\u001b[0m             \u001b[0mbqstorage_client\u001b[0m\u001b[0;34m=\u001b[0m\u001b[0mbqstorage_client\u001b[0m\u001b[0;34m,\u001b[0m\u001b[0;34m\u001b[0m\u001b[0;34m\u001b[0m\u001b[0m\n\u001b[1;32m   3107\u001b[0m             \u001b[0mdtypes\u001b[0m\u001b[0;34m=\u001b[0m\u001b[0mdtypes\u001b[0m\u001b[0;34m,\u001b[0m\u001b[0;34m\u001b[0m\u001b[0;34m\u001b[0m\u001b[0m\n",
            "\u001b[0;32m/usr/local/lib/python3.7/dist-packages/google/cloud/bigquery/job.py\u001b[0m in \u001b[0;36mresult\u001b[0;34m(self, timeout, page_size, retry, max_results)\u001b[0m\n\u001b[1;32m   2972\u001b[0m         \"\"\"\n\u001b[1;32m   2973\u001b[0m         \u001b[0;32mtry\u001b[0m\u001b[0;34m:\u001b[0m\u001b[0;34m\u001b[0m\u001b[0;34m\u001b[0m\u001b[0m\n\u001b[0;32m-> 2974\u001b[0;31m             \u001b[0msuper\u001b[0m\u001b[0;34m(\u001b[0m\u001b[0mQueryJob\u001b[0m\u001b[0;34m,\u001b[0m \u001b[0mself\u001b[0m\u001b[0;34m)\u001b[0m\u001b[0;34m.\u001b[0m\u001b[0mresult\u001b[0m\u001b[0;34m(\u001b[0m\u001b[0mtimeout\u001b[0m\u001b[0;34m=\u001b[0m\u001b[0mtimeout\u001b[0m\u001b[0;34m)\u001b[0m\u001b[0;34m\u001b[0m\u001b[0;34m\u001b[0m\u001b[0m\n\u001b[0m\u001b[1;32m   2975\u001b[0m \u001b[0;34m\u001b[0m\u001b[0m\n\u001b[1;32m   2976\u001b[0m             \u001b[0;31m# Return an iterator instead of returning the job.\u001b[0m\u001b[0;34m\u001b[0m\u001b[0;34m\u001b[0m\u001b[0;34m\u001b[0m\u001b[0m\n",
            "\u001b[0;32m/usr/local/lib/python3.7/dist-packages/google/cloud/bigquery/job.py\u001b[0m in \u001b[0;36mresult\u001b[0;34m(self, timeout, retry)\u001b[0m\n\u001b[1;32m    766\u001b[0m             \u001b[0mself\u001b[0m\u001b[0;34m.\u001b[0m\u001b[0m_begin\u001b[0m\u001b[0;34m(\u001b[0m\u001b[0mretry\u001b[0m\u001b[0;34m=\u001b[0m\u001b[0mretry\u001b[0m\u001b[0;34m)\u001b[0m\u001b[0;34m\u001b[0m\u001b[0;34m\u001b[0m\u001b[0m\n\u001b[1;32m    767\u001b[0m         \u001b[0;31m# TODO: modify PollingFuture so it can pass a retry argument to done().\u001b[0m\u001b[0;34m\u001b[0m\u001b[0;34m\u001b[0m\u001b[0;34m\u001b[0m\u001b[0m\n\u001b[0;32m--> 768\u001b[0;31m         \u001b[0;32mreturn\u001b[0m \u001b[0msuper\u001b[0m\u001b[0;34m(\u001b[0m\u001b[0m_AsyncJob\u001b[0m\u001b[0;34m,\u001b[0m \u001b[0mself\u001b[0m\u001b[0;34m)\u001b[0m\u001b[0;34m.\u001b[0m\u001b[0mresult\u001b[0m\u001b[0;34m(\u001b[0m\u001b[0mtimeout\u001b[0m\u001b[0;34m=\u001b[0m\u001b[0mtimeout\u001b[0m\u001b[0;34m)\u001b[0m\u001b[0;34m\u001b[0m\u001b[0;34m\u001b[0m\u001b[0m\n\u001b[0m\u001b[1;32m    769\u001b[0m \u001b[0;34m\u001b[0m\u001b[0m\n\u001b[1;32m    770\u001b[0m     \u001b[0;32mdef\u001b[0m \u001b[0mcancelled\u001b[0m\u001b[0;34m(\u001b[0m\u001b[0mself\u001b[0m\u001b[0;34m)\u001b[0m\u001b[0;34m:\u001b[0m\u001b[0;34m\u001b[0m\u001b[0;34m\u001b[0m\u001b[0m\n",
            "\u001b[0;32m/usr/local/lib/python3.7/dist-packages/google/api_core/future/polling.py\u001b[0m in \u001b[0;36mresult\u001b[0;34m(self, timeout, retry)\u001b[0m\n\u001b[1;32m    127\u001b[0m         \"\"\"\n\u001b[1;32m    128\u001b[0m         \u001b[0mkwargs\u001b[0m \u001b[0;34m=\u001b[0m \u001b[0;34m{\u001b[0m\u001b[0;34m}\u001b[0m \u001b[0;32mif\u001b[0m \u001b[0mretry\u001b[0m \u001b[0;32mis\u001b[0m \u001b[0mDEFAULT_RETRY\u001b[0m \u001b[0;32melse\u001b[0m \u001b[0;34m{\u001b[0m\u001b[0;34m\"retry\"\u001b[0m\u001b[0;34m:\u001b[0m \u001b[0mretry\u001b[0m\u001b[0;34m}\u001b[0m\u001b[0;34m\u001b[0m\u001b[0;34m\u001b[0m\u001b[0m\n\u001b[0;32m--> 129\u001b[0;31m         \u001b[0mself\u001b[0m\u001b[0;34m.\u001b[0m\u001b[0m_blocking_poll\u001b[0m\u001b[0;34m(\u001b[0m\u001b[0mtimeout\u001b[0m\u001b[0;34m=\u001b[0m\u001b[0mtimeout\u001b[0m\u001b[0;34m,\u001b[0m \u001b[0;34m**\u001b[0m\u001b[0mkwargs\u001b[0m\u001b[0;34m)\u001b[0m\u001b[0;34m\u001b[0m\u001b[0;34m\u001b[0m\u001b[0m\n\u001b[0m\u001b[1;32m    130\u001b[0m \u001b[0;34m\u001b[0m\u001b[0m\n\u001b[1;32m    131\u001b[0m         \u001b[0;32mif\u001b[0m \u001b[0mself\u001b[0m\u001b[0;34m.\u001b[0m\u001b[0m_exception\u001b[0m \u001b[0;32mis\u001b[0m \u001b[0;32mnot\u001b[0m \u001b[0;32mNone\u001b[0m\u001b[0;34m:\u001b[0m\u001b[0;34m\u001b[0m\u001b[0;34m\u001b[0m\u001b[0m\n",
            "\u001b[0;32m/usr/local/lib/python3.7/dist-packages/google/cloud/bigquery/job.py\u001b[0m in \u001b[0;36m_blocking_poll\u001b[0;34m(self, timeout)\u001b[0m\n\u001b[1;32m   2884\u001b[0m     \u001b[0;32mdef\u001b[0m \u001b[0m_blocking_poll\u001b[0m\u001b[0;34m(\u001b[0m\u001b[0mself\u001b[0m\u001b[0;34m,\u001b[0m \u001b[0mtimeout\u001b[0m\u001b[0;34m=\u001b[0m\u001b[0;32mNone\u001b[0m\u001b[0;34m)\u001b[0m\u001b[0;34m:\u001b[0m\u001b[0;34m\u001b[0m\u001b[0;34m\u001b[0m\u001b[0m\n\u001b[1;32m   2885\u001b[0m         \u001b[0mself\u001b[0m\u001b[0;34m.\u001b[0m\u001b[0m_done_timeout\u001b[0m \u001b[0;34m=\u001b[0m \u001b[0mtimeout\u001b[0m\u001b[0;34m\u001b[0m\u001b[0;34m\u001b[0m\u001b[0m\n\u001b[0;32m-> 2886\u001b[0;31m         \u001b[0msuper\u001b[0m\u001b[0;34m(\u001b[0m\u001b[0mQueryJob\u001b[0m\u001b[0;34m,\u001b[0m \u001b[0mself\u001b[0m\u001b[0;34m)\u001b[0m\u001b[0;34m.\u001b[0m\u001b[0m_blocking_poll\u001b[0m\u001b[0;34m(\u001b[0m\u001b[0mtimeout\u001b[0m\u001b[0;34m=\u001b[0m\u001b[0mtimeout\u001b[0m\u001b[0;34m)\u001b[0m\u001b[0;34m\u001b[0m\u001b[0;34m\u001b[0m\u001b[0m\n\u001b[0m\u001b[1;32m   2887\u001b[0m \u001b[0;34m\u001b[0m\u001b[0m\n\u001b[1;32m   2888\u001b[0m     \u001b[0;34m@\u001b[0m\u001b[0mstaticmethod\u001b[0m\u001b[0;34m\u001b[0m\u001b[0;34m\u001b[0m\u001b[0m\n",
            "\u001b[0;32m/usr/local/lib/python3.7/dist-packages/google/api_core/future/polling.py\u001b[0m in \u001b[0;36m_blocking_poll\u001b[0;34m(self, timeout, retry)\u001b[0m\n\u001b[1;32m    105\u001b[0m         \u001b[0;32mtry\u001b[0m\u001b[0;34m:\u001b[0m\u001b[0;34m\u001b[0m\u001b[0;34m\u001b[0m\u001b[0m\n\u001b[1;32m    106\u001b[0m             \u001b[0mkwargs\u001b[0m \u001b[0;34m=\u001b[0m \u001b[0;34m{\u001b[0m\u001b[0;34m}\u001b[0m \u001b[0;32mif\u001b[0m \u001b[0mretry\u001b[0m \u001b[0;32mis\u001b[0m \u001b[0mDEFAULT_RETRY\u001b[0m \u001b[0;32melse\u001b[0m \u001b[0;34m{\u001b[0m\u001b[0;34m\"retry\"\u001b[0m\u001b[0;34m:\u001b[0m \u001b[0mretry\u001b[0m\u001b[0;34m}\u001b[0m\u001b[0;34m\u001b[0m\u001b[0;34m\u001b[0m\u001b[0m\n\u001b[0;32m--> 107\u001b[0;31m             \u001b[0mretry_\u001b[0m\u001b[0;34m(\u001b[0m\u001b[0mself\u001b[0m\u001b[0;34m.\u001b[0m\u001b[0m_done_or_raise\u001b[0m\u001b[0;34m)\u001b[0m\u001b[0;34m(\u001b[0m\u001b[0;34m**\u001b[0m\u001b[0mkwargs\u001b[0m\u001b[0;34m)\u001b[0m\u001b[0;34m\u001b[0m\u001b[0;34m\u001b[0m\u001b[0m\n\u001b[0m\u001b[1;32m    108\u001b[0m         \u001b[0;32mexcept\u001b[0m \u001b[0mexceptions\u001b[0m\u001b[0;34m.\u001b[0m\u001b[0mRetryError\u001b[0m\u001b[0;34m:\u001b[0m\u001b[0;34m\u001b[0m\u001b[0;34m\u001b[0m\u001b[0m\n\u001b[1;32m    109\u001b[0m             raise concurrent.futures.TimeoutError(\n",
            "\u001b[0;32m/usr/local/lib/python3.7/dist-packages/google/api_core/retry.py\u001b[0m in \u001b[0;36mretry_wrapped_func\u001b[0;34m(*args, **kwargs)\u001b[0m\n\u001b[1;32m    284\u001b[0m                 \u001b[0msleep_generator\u001b[0m\u001b[0;34m,\u001b[0m\u001b[0;34m\u001b[0m\u001b[0;34m\u001b[0m\u001b[0m\n\u001b[1;32m    285\u001b[0m                 \u001b[0mself\u001b[0m\u001b[0;34m.\u001b[0m\u001b[0m_deadline\u001b[0m\u001b[0;34m,\u001b[0m\u001b[0;34m\u001b[0m\u001b[0;34m\u001b[0m\u001b[0m\n\u001b[0;32m--> 286\u001b[0;31m                 \u001b[0mon_error\u001b[0m\u001b[0;34m=\u001b[0m\u001b[0mon_error\u001b[0m\u001b[0;34m,\u001b[0m\u001b[0;34m\u001b[0m\u001b[0;34m\u001b[0m\u001b[0m\n\u001b[0m\u001b[1;32m    287\u001b[0m             )\n\u001b[1;32m    288\u001b[0m \u001b[0;34m\u001b[0m\u001b[0m\n",
            "\u001b[0;32m/usr/local/lib/python3.7/dist-packages/google/api_core/retry.py\u001b[0m in \u001b[0;36mretry_target\u001b[0;34m(target, predicate, sleep_generator, deadline, on_error)\u001b[0m\n\u001b[1;32m    213\u001b[0m             \u001b[0;34m\"Retrying due to {}, sleeping {:.1f}s ...\"\u001b[0m\u001b[0;34m.\u001b[0m\u001b[0mformat\u001b[0m\u001b[0;34m(\u001b[0m\u001b[0mlast_exc\u001b[0m\u001b[0;34m,\u001b[0m \u001b[0msleep\u001b[0m\u001b[0;34m)\u001b[0m\u001b[0;34m\u001b[0m\u001b[0;34m\u001b[0m\u001b[0m\n\u001b[1;32m    214\u001b[0m         )\n\u001b[0;32m--> 215\u001b[0;31m         \u001b[0mtime\u001b[0m\u001b[0;34m.\u001b[0m\u001b[0msleep\u001b[0m\u001b[0;34m(\u001b[0m\u001b[0msleep\u001b[0m\u001b[0;34m)\u001b[0m\u001b[0;34m\u001b[0m\u001b[0;34m\u001b[0m\u001b[0m\n\u001b[0m\u001b[1;32m    216\u001b[0m \u001b[0;34m\u001b[0m\u001b[0m\n\u001b[1;32m    217\u001b[0m     \u001b[0;32mraise\u001b[0m \u001b[0mValueError\u001b[0m\u001b[0;34m(\u001b[0m\u001b[0;34m\"Sleep generator stopped yielding sleep values.\"\u001b[0m\u001b[0;34m)\u001b[0m\u001b[0;34m\u001b[0m\u001b[0;34m\u001b[0m\u001b[0m\n",
            "\u001b[0;31mKeyboardInterrupt\u001b[0m: "
          ]
        }
      ]
    },
    {
      "cell_type": "code",
      "metadata": {
        "id": "MmxR7VtLZntm",
        "colab": {
          "base_uri": "https://localhost:8080/",
          "height": 485
        },
        "outputId": "c50ccf5f-dea8-48db-862f-998ab65f0113"
      },
      "source": [
        "dataset.dtypes"
      ],
      "execution_count": null,
      "outputs": [
        {
          "output_type": "execute_result",
          "data": {
            "text/plain": [
              "VMS                                               object\n",
              "has_curriculum_vitae                              object\n",
              "years_of_nursing_experience                      float64\n",
              "years_of_travel_experience                       float64\n",
              "age_group                                         object\n",
              "num_qualified_references                           int64\n",
              "user_id                                           object\n",
              "application_submission_date          datetime64[ns, UTC]\n",
              "work_history_entries                               int64\n",
              "generic_certifications                             int64\n",
              "publish_to_submission_diff                         int64\n",
              "start_date_diff                                  float64\n",
              "first_submission_timestamp           datetime64[ns, UTC]\n",
              "count_completed_assessments                        int64\n",
              "num_previous_applications                          int64\n",
              "has_previous_packet_created                        int64\n",
              "has_previous_submission                            int64\n",
              "has_previous_offer                                 int64\n",
              "has_previous_hire                                  int64\n",
              "days_since_last_packet_created                   float64\n",
              "days_since_last_packet_submission                float64\n",
              "days_since_last_offer                            float64\n",
              "days_since_last_hire                             float64\n",
              "has_packet_created_30_days                         int64\n",
              "has_submission_30_days                             int64\n",
              "dtype: object"
            ]
          },
          "metadata": {
            "tags": []
          },
          "execution_count": 9
        }
      ]
    },
    {
      "cell_type": "markdown",
      "metadata": {
        "id": "uLVQApYCs6BI"
      },
      "source": [
        "[Spreadsheet](https://docs.google.com/spreadsheets/d/1TvgPxnBVgELN7WDbH5MN-XMLF9DibNGbVqaWyNh8AWs/edit?ts=5ea0b6f4#gid=0)\n",
        "\n",
        "| variable \t| dtype \t|\n",
        "|-\t|-\t|\n",
        "| vms \t| string/categorical \t|\n",
        "| has_cv \t| boolean \t|\n",
        "| years_of_nursing_experience \t| float (int) \t|\n",
        "| years_of_travel_experience \t| float (int) \t|\n",
        "| age_group \t| ordinal \t|\n",
        "| num_qualified_references \t| int \t|\n",
        "| num_previous_applications \t| int \t|\n",
        "| has_previous_packet_created \t| boolean \t|\n",
        "| has_previous_packet_submission \t| boolean \t|\n",
        "| has_previous_offer \t| boolean \t|\n",
        "| has_previous_hire \t| boolean \t|\n",
        "| work_history_entries \t| int \t|\n",
        "| generic_certifications \t| int \t|\n",
        "| published_to_application_submission_diff \t| int \t|\n",
        "| start_date_diff \t| int \t|\n",
        "| has_packet_created_30_days \t| boolean \t|\n",
        "| has_submission_30_days \t| boolean \t|\n",
        "| days_since_last_packet_created \t| int \t|\n",
        "| days_since_last_packet_submission \t| int \t|\n",
        "| days_since_last_offer \t| int \t|\n",
        "| days_since_last_hire \t| int \t|\n",
        "| previous packet created for this VMS \t| boolean \t|"
      ]
    },
    {
      "cell_type": "code",
      "metadata": {
        "id": "Ay8J_VxopFjl"
      },
      "source": [
        "bool_cols = [col for col in dataset.columns if col.find(\"has\") > -1 or col.find(\"binary\") > -1]\n",
        "ts_cols = [col for col in dataset.columns if col.endswith(\"date\") or col.endswith(\"timestamp\")]"
      ],
      "execution_count": null,
      "outputs": []
    },
    {
      "cell_type": "code",
      "metadata": {
        "id": "34FMaSLjpH_b"
      },
      "source": [
        "## needs to be a reusable function\n",
        "for col in bool_cols:\n",
        "    if isinstance(dataset.dtypes[col], int):\n",
        "        dataset[col] = bool(dataset[col])\n",
        "    else:\n",
        "        dataset[col] = dataset[col].apply(lambda x: True if x == \"True\" else False)\n",
        "for col in ts_cols:\n",
        "    dataset[col] = pd.to_datetime(dataset[col])"
      ],
      "execution_count": null,
      "outputs": []
    },
    {
      "cell_type": "code",
      "metadata": {
        "id": "F9o3lZ16pTFl",
        "colab": {
          "base_uri": "https://localhost:8080/",
          "height": 485
        },
        "outputId": "def0880c-b2d8-4af1-c5b1-79221a038a2d"
      },
      "source": [
        "dataset.dtypes"
      ],
      "execution_count": null,
      "outputs": [
        {
          "output_type": "execute_result",
          "data": {
            "text/plain": [
              "VMS                                               object\n",
              "has_curriculum_vitae                                bool\n",
              "years_of_nursing_experience                      float64\n",
              "years_of_travel_experience                       float64\n",
              "age_group                                         object\n",
              "num_qualified_references                           int64\n",
              "user_id                                           object\n",
              "application_submission_date          datetime64[ns, UTC]\n",
              "work_history_entries                               int64\n",
              "generic_certifications                             int64\n",
              "publish_to_submission_diff                         int64\n",
              "start_date_diff                                  float64\n",
              "first_submission_timestamp           datetime64[ns, UTC]\n",
              "count_completed_assessments                        int64\n",
              "num_previous_applications                          int64\n",
              "has_previous_packet_created                         bool\n",
              "has_previous_submission                             bool\n",
              "has_previous_offer                                  bool\n",
              "has_previous_hire                                   bool\n",
              "days_since_last_packet_created                   float64\n",
              "days_since_last_packet_submission                float64\n",
              "days_since_last_offer                            float64\n",
              "days_since_last_hire                             float64\n",
              "has_packet_created_30_days                          bool\n",
              "has_submission_30_days                              bool\n",
              "dtype: object"
            ]
          },
          "metadata": {
            "tags": []
          },
          "execution_count": 4
        }
      ]
    },
    {
      "cell_type": "code",
      "metadata": {
        "id": "heIaC7p2pZ7D"
      },
      "source": [
        "## convert object columns to string\n",
        "for col in dataset.columns:\n",
        "    if repr(dataset.dtypes[col]) == \"dtype('O')\":\n",
        "        dataset[col] = dataset[col].astype(\"|S\")"
      ],
      "execution_count": null,
      "outputs": []
    },
    {
      "cell_type": "code",
      "metadata": {
        "id": "trmGhIFFZa59"
      },
      "source": [
        "## need to moved to ./lib/preprocessing.py\n",
        "def add_vms_submission_binary(data):\n",
        "    data[\"vms_submission_binary\"] = data[\"first_submission_timestamp\"].apply(lambda x: 0 if pd.isnull(x) else 1)\n",
        "    return data\n",
        "\n",
        "\n",
        "def compute_hours_since_last_packet_created_all(data):\n",
        "    use = data[[\"user_id\", \"first_submission_timestamp\"]].copy()\n",
        "    data[\"hours_since_last_packet_created\"] = use.groupby(\"user_id\")[\"first_submission_timestamp\"].diff()\n",
        "    return data  \n",
        "\n",
        "\n",
        "def compute_user_has_packet_for_vms_v2(data):\n",
        "    local_data = data[[\"user_id\", \"VMS\", \"application_submission_date\", \"first_submission_timestamp\"]].copy()\n",
        "    previous_vms_submissions = pd.DataFrame(columns=[\"previous_vms_submission\"])\n",
        "    idx = list(local_data.columns)\n",
        "    application_submission_date_idx = idx.index(\"application_submission_date\") + 1 #index of df is at 0\n",
        "    user_id_idx = idx.index(\"user_id\") + 1\n",
        "    vms_idx = idx.index(\"VMS\") + 1\n",
        "    for row in local_data.itertuples():\n",
        "        submission_match = local_data[\"first_submission_timestamp\"] <= row[application_submission_date_idx]\n",
        "        user_id_match = row[user_id_idx] == local_data[\"user_id\"]\n",
        "        vms_match = row[vms_idx] == local_data[\"VMS\"]\n",
        "        previous_vms_submissions.loc[row[0]] = not local_data[submission_match].empty\n",
        "\n",
        "    data[\"previous_vms_submission\"] = previous_vms_submissions[\"previous_vms_submission\"]\n",
        "    return data\n",
        "\n",
        "dataset = add_vms_submission_binary(dataset)\n",
        "dataset = compute_hours_since_last_packet_created_all(dataset)\n",
        "# dataset = compute_user_has_packet_for_vms_v2(dataset)\n",
        "\n",
        "## running the below line is really slow\n",
        "## uncomment on updates to dataset, if interested\n",
        "# ProfileReport(dataset)"
      ],
      "execution_count": null,
      "outputs": []
    },
    {
      "cell_type": "code",
      "metadata": {
        "id": "I4BM694Khniw"
      },
      "source": [
        "from sklearn import preprocessing\n",
        "\n",
        "## need to moved to ./lib/preprocessing.py\n",
        "def encode_categorical(data, categories, encoding=\"one_hot\"):\n",
        "    ## categories is a list\n",
        "    if encoding == \"one_hot\":\n",
        "        enc = preprocessing.OneHotEncoder()\n",
        "    elif encoding == \"ordinal\":\n",
        "        enc = preprocessing.OrdinalEncoder()\n",
        "    else:\n",
        "      ## throw err, unsupported encoding\n",
        "        pass\n",
        "    enc.fit(categories)\n",
        "    if enc == \"one_hot\":\n",
        "        return enc.transform(data.values.reshape(-1, 1)).toarray()\n",
        "    elif enc == \"ordinal\":\n",
        "        return enc.transform(data.values.reshape(-1, 1))\n"
      ],
      "execution_count": null,
      "outputs": []
    },
    {
      "cell_type": "code",
      "metadata": {
        "id": "Wc-G1yqSp150",
        "colab": {
          "base_uri": "https://localhost:8080/",
          "height": 53
        },
        "outputId": "442cc516-a080-438a-e822-d14199525c3a"
      },
      "source": [
        "%time\n",
        "dataset = add_vms_submission_binary(dataset)"
      ],
      "execution_count": null,
      "outputs": [
        {
          "output_type": "stream",
          "text": [
            "CPU times: user 2 µs, sys: 0 ns, total: 2 µs\n",
            "Wall time: 4.29 µs\n"
          ],
          "name": "stdout"
        }
      ]
    },
    {
      "cell_type": "code",
      "metadata": {
        "id": "qAg4Izpzp3oH",
        "colab": {
          "base_uri": "https://localhost:8080/",
          "height": 53
        },
        "outputId": "113a2e50-e47e-4fec-9373-561753912a52"
      },
      "source": [
        "%time\n",
        "dataset = compute_hours_since_last_packet_created_all(dataset)"
      ],
      "execution_count": null,
      "outputs": [
        {
          "output_type": "stream",
          "text": [
            "CPU times: user 3 µs, sys: 0 ns, total: 3 µs\n",
            "Wall time: 6.44 µs\n"
          ],
          "name": "stdout"
        }
      ]
    },
    {
      "cell_type": "code",
      "metadata": {
        "id": "0A0yyZGop3eW"
      },
      "source": [
        "vms_one_hot = encode_categorical(dataset[\"VMS\"], categories=[[vms] for vms in dataset[\"VMS\"].unique()])\n",
        "\n",
        "vms_proc = pd.DataFrame(vms_one_hot, columns = [\"vms_\"+str(int(i)) for i in range(len(dataset[\"VMS\"].unique()))]) \n",
        "\n",
        "dataset = pd.concat([dataset, vms_proc], axis=1)"
      ],
      "execution_count": null,
      "outputs": []
    },
    {
      "cell_type": "code",
      "metadata": {
        "id": "McV1fYuotOMI"
      },
      "source": [
        "dataset[\"hours_since_last_packet_created\"] = dataset[\"hours_since_last_packet_created\"] / datetime.timedelta(hours=1)"
      ],
      "execution_count": null,
      "outputs": []
    },
    {
      "cell_type": "code",
      "metadata": {
        "id": "GkpR1r3pqRTr"
      },
      "source": [
        "X = dataset.copy()\n",
        "X = X.drop(\n",
        "    columns=[\n",
        "        \"user_id\",\n",
        "        \"application_submission_date\",\n",
        "        \"first_submission_timestamp\",\n",
        "        \"vms_submission_binary\",\n",
        "        \"VMS\",\n",
        "        \"age_group\"\n",
        "    ]\n",
        ")\n",
        "y = dataset.vms_submission_binary.copy()"
      ],
      "execution_count": null,
      "outputs": []
    },
    {
      "cell_type": "code",
      "metadata": {
        "id": "x0FSZPlNrax_"
      },
      "source": [
        "## gotta fix this...\n",
        "dataset = dataset.fillna(0)"
      ],
      "execution_count": null,
      "outputs": []
    },
    {
      "cell_type": "code",
      "metadata": {
        "id": "6IfaKwY6tXLj",
        "colab": {
          "base_uri": "https://localhost:8080/",
          "height": 224
        },
        "outputId": "ed34873b-9e7c-44b0-de04-d8f87532d302"
      },
      "source": [
        "X.head()"
      ],
      "execution_count": null,
      "outputs": [
        {
          "output_type": "execute_result",
          "data": {
            "text/html": [
              "<div>\n",
              "<style scoped>\n",
              "    .dataframe tbody tr th:only-of-type {\n",
              "        vertical-align: middle;\n",
              "    }\n",
              "\n",
              "    .dataframe tbody tr th {\n",
              "        vertical-align: top;\n",
              "    }\n",
              "\n",
              "    .dataframe thead th {\n",
              "        text-align: right;\n",
              "    }\n",
              "</style>\n",
              "<table border=\"1\" class=\"dataframe\">\n",
              "  <thead>\n",
              "    <tr style=\"text-align: right;\">\n",
              "      <th></th>\n",
              "      <th>has_curriculum_vitae</th>\n",
              "      <th>years_of_nursing_experience</th>\n",
              "      <th>years_of_travel_experience</th>\n",
              "      <th>num_qualified_references</th>\n",
              "      <th>work_history_entries</th>\n",
              "      <th>generic_certifications</th>\n",
              "      <th>publish_to_submission_diff</th>\n",
              "      <th>start_date_diff</th>\n",
              "      <th>count_completed_assessments</th>\n",
              "      <th>num_previous_applications</th>\n",
              "      <th>has_previous_packet_created</th>\n",
              "      <th>has_previous_submission</th>\n",
              "      <th>has_previous_offer</th>\n",
              "      <th>has_previous_hire</th>\n",
              "      <th>days_since_last_packet_created</th>\n",
              "      <th>days_since_last_packet_submission</th>\n",
              "      <th>days_since_last_offer</th>\n",
              "      <th>days_since_last_hire</th>\n",
              "      <th>has_packet_created_30_days</th>\n",
              "      <th>has_submission_30_days</th>\n",
              "      <th>hours_since_last_packet_created</th>\n",
              "      <th>vms_0</th>\n",
              "      <th>vms_1</th>\n",
              "      <th>vms_2</th>\n",
              "      <th>vms_3</th>\n",
              "      <th>vms_4</th>\n",
              "      <th>vms_5</th>\n",
              "      <th>vms_6</th>\n",
              "      <th>vms_7</th>\n",
              "      <th>vms_8</th>\n",
              "      <th>vms_9</th>\n",
              "      <th>vms_10</th>\n",
              "      <th>vms_11</th>\n",
              "      <th>vms_12</th>\n",
              "      <th>vms_13</th>\n",
              "      <th>vms_14</th>\n",
              "      <th>vms_15</th>\n",
              "      <th>vms_16</th>\n",
              "      <th>vms_17</th>\n",
              "      <th>vms_18</th>\n",
              "      <th>vms_19</th>\n",
              "      <th>vms_20</th>\n",
              "      <th>vms_21</th>\n",
              "      <th>vms_22</th>\n",
              "      <th>vms_23</th>\n",
              "      <th>vms_24</th>\n",
              "      <th>vms_25</th>\n",
              "      <th>vms_26</th>\n",
              "      <th>vms_27</th>\n",
              "      <th>vms_28</th>\n",
              "      <th>vms_29</th>\n",
              "      <th>vms_30</th>\n",
              "    </tr>\n",
              "  </thead>\n",
              "  <tbody>\n",
              "    <tr>\n",
              "      <th>0</th>\n",
              "      <td>False</td>\n",
              "      <td>10.0</td>\n",
              "      <td>2.0</td>\n",
              "      <td>3</td>\n",
              "      <td>3</td>\n",
              "      <td>1</td>\n",
              "      <td>2</td>\n",
              "      <td>-24.0</td>\n",
              "      <td>0</td>\n",
              "      <td>0</td>\n",
              "      <td>False</td>\n",
              "      <td>False</td>\n",
              "      <td>False</td>\n",
              "      <td>False</td>\n",
              "      <td>NaN</td>\n",
              "      <td>NaN</td>\n",
              "      <td>NaN</td>\n",
              "      <td>NaN</td>\n",
              "      <td>False</td>\n",
              "      <td>False</td>\n",
              "      <td>NaN</td>\n",
              "      <td>NaN</td>\n",
              "      <td>NaN</td>\n",
              "      <td>NaN</td>\n",
              "      <td>NaN</td>\n",
              "      <td>NaN</td>\n",
              "      <td>NaN</td>\n",
              "      <td>NaN</td>\n",
              "      <td>NaN</td>\n",
              "      <td>NaN</td>\n",
              "      <td>NaN</td>\n",
              "      <td>NaN</td>\n",
              "      <td>NaN</td>\n",
              "      <td>NaN</td>\n",
              "      <td>NaN</td>\n",
              "      <td>NaN</td>\n",
              "      <td>NaN</td>\n",
              "      <td>NaN</td>\n",
              "      <td>NaN</td>\n",
              "      <td>NaN</td>\n",
              "      <td>NaN</td>\n",
              "      <td>NaN</td>\n",
              "      <td>NaN</td>\n",
              "      <td>NaN</td>\n",
              "      <td>NaN</td>\n",
              "      <td>NaN</td>\n",
              "      <td>NaN</td>\n",
              "      <td>NaN</td>\n",
              "      <td>NaN</td>\n",
              "      <td>NaN</td>\n",
              "      <td>NaN</td>\n",
              "      <td>NaN</td>\n",
              "    </tr>\n",
              "    <tr>\n",
              "      <th>1</th>\n",
              "      <td>False</td>\n",
              "      <td>40.0</td>\n",
              "      <td>0.0</td>\n",
              "      <td>0</td>\n",
              "      <td>3</td>\n",
              "      <td>2</td>\n",
              "      <td>36</td>\n",
              "      <td>NaN</td>\n",
              "      <td>0</td>\n",
              "      <td>11</td>\n",
              "      <td>False</td>\n",
              "      <td>False</td>\n",
              "      <td>False</td>\n",
              "      <td>False</td>\n",
              "      <td>1.0</td>\n",
              "      <td>0.0</td>\n",
              "      <td>NaN</td>\n",
              "      <td>NaN</td>\n",
              "      <td>False</td>\n",
              "      <td>False</td>\n",
              "      <td>NaN</td>\n",
              "      <td>NaN</td>\n",
              "      <td>NaN</td>\n",
              "      <td>NaN</td>\n",
              "      <td>NaN</td>\n",
              "      <td>NaN</td>\n",
              "      <td>NaN</td>\n",
              "      <td>NaN</td>\n",
              "      <td>NaN</td>\n",
              "      <td>NaN</td>\n",
              "      <td>NaN</td>\n",
              "      <td>NaN</td>\n",
              "      <td>NaN</td>\n",
              "      <td>NaN</td>\n",
              "      <td>NaN</td>\n",
              "      <td>NaN</td>\n",
              "      <td>NaN</td>\n",
              "      <td>NaN</td>\n",
              "      <td>NaN</td>\n",
              "      <td>NaN</td>\n",
              "      <td>NaN</td>\n",
              "      <td>NaN</td>\n",
              "      <td>NaN</td>\n",
              "      <td>NaN</td>\n",
              "      <td>NaN</td>\n",
              "      <td>NaN</td>\n",
              "      <td>NaN</td>\n",
              "      <td>NaN</td>\n",
              "      <td>NaN</td>\n",
              "      <td>NaN</td>\n",
              "      <td>NaN</td>\n",
              "      <td>NaN</td>\n",
              "    </tr>\n",
              "    <tr>\n",
              "      <th>2</th>\n",
              "      <td>False</td>\n",
              "      <td>6.0</td>\n",
              "      <td>4.0</td>\n",
              "      <td>3</td>\n",
              "      <td>11</td>\n",
              "      <td>5</td>\n",
              "      <td>2</td>\n",
              "      <td>-15.0</td>\n",
              "      <td>2</td>\n",
              "      <td>35</td>\n",
              "      <td>False</td>\n",
              "      <td>False</td>\n",
              "      <td>False</td>\n",
              "      <td>False</td>\n",
              "      <td>2.0</td>\n",
              "      <td>2.0</td>\n",
              "      <td>102.0</td>\n",
              "      <td>102.0</td>\n",
              "      <td>False</td>\n",
              "      <td>False</td>\n",
              "      <td>NaN</td>\n",
              "      <td>NaN</td>\n",
              "      <td>NaN</td>\n",
              "      <td>NaN</td>\n",
              "      <td>NaN</td>\n",
              "      <td>NaN</td>\n",
              "      <td>NaN</td>\n",
              "      <td>NaN</td>\n",
              "      <td>NaN</td>\n",
              "      <td>NaN</td>\n",
              "      <td>NaN</td>\n",
              "      <td>NaN</td>\n",
              "      <td>NaN</td>\n",
              "      <td>NaN</td>\n",
              "      <td>NaN</td>\n",
              "      <td>NaN</td>\n",
              "      <td>NaN</td>\n",
              "      <td>NaN</td>\n",
              "      <td>NaN</td>\n",
              "      <td>NaN</td>\n",
              "      <td>NaN</td>\n",
              "      <td>NaN</td>\n",
              "      <td>NaN</td>\n",
              "      <td>NaN</td>\n",
              "      <td>NaN</td>\n",
              "      <td>NaN</td>\n",
              "      <td>NaN</td>\n",
              "      <td>NaN</td>\n",
              "      <td>NaN</td>\n",
              "      <td>NaN</td>\n",
              "      <td>NaN</td>\n",
              "      <td>NaN</td>\n",
              "    </tr>\n",
              "    <tr>\n",
              "      <th>3</th>\n",
              "      <td>False</td>\n",
              "      <td>5.0</td>\n",
              "      <td>3.0</td>\n",
              "      <td>3</td>\n",
              "      <td>10</td>\n",
              "      <td>5</td>\n",
              "      <td>6</td>\n",
              "      <td>-19.0</td>\n",
              "      <td>1</td>\n",
              "      <td>30</td>\n",
              "      <td>False</td>\n",
              "      <td>False</td>\n",
              "      <td>False</td>\n",
              "      <td>False</td>\n",
              "      <td>0.0</td>\n",
              "      <td>1.0</td>\n",
              "      <td>NaN</td>\n",
              "      <td>NaN</td>\n",
              "      <td>False</td>\n",
              "      <td>False</td>\n",
              "      <td>NaN</td>\n",
              "      <td>NaN</td>\n",
              "      <td>NaN</td>\n",
              "      <td>NaN</td>\n",
              "      <td>NaN</td>\n",
              "      <td>NaN</td>\n",
              "      <td>NaN</td>\n",
              "      <td>NaN</td>\n",
              "      <td>NaN</td>\n",
              "      <td>NaN</td>\n",
              "      <td>NaN</td>\n",
              "      <td>NaN</td>\n",
              "      <td>NaN</td>\n",
              "      <td>NaN</td>\n",
              "      <td>NaN</td>\n",
              "      <td>NaN</td>\n",
              "      <td>NaN</td>\n",
              "      <td>NaN</td>\n",
              "      <td>NaN</td>\n",
              "      <td>NaN</td>\n",
              "      <td>NaN</td>\n",
              "      <td>NaN</td>\n",
              "      <td>NaN</td>\n",
              "      <td>NaN</td>\n",
              "      <td>NaN</td>\n",
              "      <td>NaN</td>\n",
              "      <td>NaN</td>\n",
              "      <td>NaN</td>\n",
              "      <td>NaN</td>\n",
              "      <td>NaN</td>\n",
              "      <td>NaN</td>\n",
              "      <td>NaN</td>\n",
              "    </tr>\n",
              "    <tr>\n",
              "      <th>4</th>\n",
              "      <td>False</td>\n",
              "      <td>5.0</td>\n",
              "      <td>3.0</td>\n",
              "      <td>3</td>\n",
              "      <td>10</td>\n",
              "      <td>5</td>\n",
              "      <td>0</td>\n",
              "      <td>-13.0</td>\n",
              "      <td>1</td>\n",
              "      <td>29</td>\n",
              "      <td>False</td>\n",
              "      <td>False</td>\n",
              "      <td>False</td>\n",
              "      <td>False</td>\n",
              "      <td>0.0</td>\n",
              "      <td>0.0</td>\n",
              "      <td>NaN</td>\n",
              "      <td>NaN</td>\n",
              "      <td>False</td>\n",
              "      <td>False</td>\n",
              "      <td>NaN</td>\n",
              "      <td>NaN</td>\n",
              "      <td>NaN</td>\n",
              "      <td>NaN</td>\n",
              "      <td>NaN</td>\n",
              "      <td>NaN</td>\n",
              "      <td>NaN</td>\n",
              "      <td>NaN</td>\n",
              "      <td>NaN</td>\n",
              "      <td>NaN</td>\n",
              "      <td>NaN</td>\n",
              "      <td>NaN</td>\n",
              "      <td>NaN</td>\n",
              "      <td>NaN</td>\n",
              "      <td>NaN</td>\n",
              "      <td>NaN</td>\n",
              "      <td>NaN</td>\n",
              "      <td>NaN</td>\n",
              "      <td>NaN</td>\n",
              "      <td>NaN</td>\n",
              "      <td>NaN</td>\n",
              "      <td>NaN</td>\n",
              "      <td>NaN</td>\n",
              "      <td>NaN</td>\n",
              "      <td>NaN</td>\n",
              "      <td>NaN</td>\n",
              "      <td>NaN</td>\n",
              "      <td>NaN</td>\n",
              "      <td>NaN</td>\n",
              "      <td>NaN</td>\n",
              "      <td>NaN</td>\n",
              "      <td>NaN</td>\n",
              "    </tr>\n",
              "  </tbody>\n",
              "</table>\n",
              "</div>"
            ],
            "text/plain": [
              "   has_curriculum_vitae  years_of_nursing_experience  ...  vms_29  vms_30\n",
              "0                 False                         10.0  ...     NaN     NaN\n",
              "1                 False                         40.0  ...     NaN     NaN\n",
              "2                 False                          6.0  ...     NaN     NaN\n",
              "3                 False                          5.0  ...     NaN     NaN\n",
              "4                 False                          5.0  ...     NaN     NaN\n",
              "\n",
              "[5 rows x 52 columns]"
            ]
          },
          "metadata": {
            "tags": []
          },
          "execution_count": 14
        }
      ]
    },
    {
      "cell_type": "code",
      "metadata": {
        "id": "Rdw8Gdd9sxlP",
        "colab": {
          "base_uri": "https://localhost:8080/",
          "height": 179
        },
        "outputId": "dce55260-45e5-49a1-f49b-429d830be63d"
      },
      "source": [
        "y.describe()"
      ],
      "execution_count": null,
      "outputs": [
        {
          "output_type": "execute_result",
          "data": {
            "text/plain": [
              "count    60968.000000\n",
              "mean         0.311754\n",
              "std          0.463214\n",
              "min          0.000000\n",
              "25%          0.000000\n",
              "50%          0.000000\n",
              "75%          1.000000\n",
              "max          1.000000\n",
              "Name: vms_submission_binary, dtype: float64"
            ]
          },
          "metadata": {
            "tags": []
          },
          "execution_count": 15
        }
      ]
    },
    {
      "cell_type": "markdown",
      "metadata": {
        "id": "sLWK8LU1rjfC"
      },
      "source": [
        "\n",
        "Need to write `X` this to file or BigQuery and preserve dtypes, so we can be explicit on loading them in other notebook and not have to recast everything\n"
      ]
    },
    {
      "cell_type": "code",
      "metadata": {
        "id": "reTQSVpAd5MZ",
        "colab": {
          "base_uri": "https://localhost:8080/",
          "height": 35
        },
        "outputId": "97e9a32d-c12b-4f20-d558-4d4ccdb52ea5"
      },
      "source": [
        "dataset_id = 'ml_team'\n",
        "table_id = 'preprocessed_data'\n",
        "table_reference = client.dataset(dataset_id).table(table_id)\n",
        "client.delete_table(table_reference, not_found_ok=True)\n",
        "\n",
        "dataset.to_gbq(\n",
        "    'ml_team.preprocessed_data',\n",
        "    'nomad-prod-193619',\n",
        "    chunksize=10000,\n",
        ")\n"
      ],
      "execution_count": null,
      "outputs": [
        {
          "output_type": "stream",
          "text": [
            "7it [00:40,  5.84s/it]\n"
          ],
          "name": "stderr"
        }
      ]
    },
    {
      "cell_type": "markdown",
      "metadata": {
        "id": "S428uu-viBY0"
      },
      "source": [
        "#Hello"
      ]
    }
  ]
}